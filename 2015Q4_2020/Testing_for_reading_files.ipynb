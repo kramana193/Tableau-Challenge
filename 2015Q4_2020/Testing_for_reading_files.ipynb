{
 "cells": [
  {
   "cell_type": "code",
   "execution_count": 1,
   "id": "22f8c172",
   "metadata": {},
   "outputs": [],
   "source": [
    "import os\n",
    "\n",
    "import requests\n",
    "\n",
    "from time import time\n",
    "\n",
    "from multiprocessing.pool import ThreadPool\n",
    "\n",
    "import zipfile"
   ]
  },
  {
   "cell_type": "code",
   "execution_count": null,
   "id": "d043388c",
   "metadata": {},
   "outputs": [],
   "source": [
    "def url_response(url):\n",
    "\n",
    "    path, url = url\n",
    "\n",
    "    r = requests.get(url, stream = True)\n",
    "\n",
    "    with open(path, 'wb') as f:\n",
    "\n",
    "        for ch in r:\n",
    "\n",
    "            f.write(ch)"
   ]
  },
  {
   "cell_type": "code",
   "execution_count": null,
   "id": "72f8ce81",
   "metadata": {},
   "outputs": [],
   "source": [
    "urls = [(\"CitiBike\",\"https://s3.amazonaws.com/tripdata/index.html\")]"
   ]
  },
  {
   "cell_type": "code",
   "execution_count": null,
   "id": "5ff0c134",
   "metadata": {},
   "outputs": [],
   "source": [
    "start = time()\n",
    "\n",
    "for x in urls:\n",
    "\n",
    "    url_response (x)\n",
    "\n",
    "print(f\"Time to download: {time() - start}\")"
   ]
  },
  {
   "cell_type": "code",
   "execution_count": null,
   "id": "27174716",
   "metadata": {},
   "outputs": [],
   "source": [
    "url_response(\"https://s3.amazonaws.com/tripdata/index.html\")"
   ]
  },
  {
   "cell_type": "markdown",
   "id": "93c36b0f",
   "metadata": {},
   "source": [
    "# Web Scrapping\n"
   ]
  },
  {
   "cell_type": "code",
   "execution_count": null,
   "id": "5bbabbfe",
   "metadata": {},
   "outputs": [],
   "source": [
    "import requests\n",
    "\n",
    "from bs4 import BeautifulSoup as BS"
   ]
  },
  {
   "cell_type": "code",
   "execution_count": null,
   "id": "beb9b064",
   "metadata": {},
   "outputs": [],
   "source": [
    "response = requests.get('https://s3.amazonaws.com/tripdata/index.html')\n",
    "response.status_code"
   ]
  },
  {
   "cell_type": "code",
   "execution_count": null,
   "id": "9e44f744",
   "metadata": {},
   "outputs": [],
   "source": [
    "soup = BS(response.text)\n",
    "soup"
   ]
  },
  {
   "cell_type": "code",
   "execution_count": null,
   "id": "20bf87e3",
   "metadata": {},
   "outputs": [],
   "source": [
    "soup.title"
   ]
  },
  {
   "cell_type": "code",
   "execution_count": null,
   "id": "e6e12363",
   "metadata": {},
   "outputs": [],
   "source": [
    "soup.title.text"
   ]
  },
  {
   "cell_type": "code",
   "execution_count": null,
   "id": "4a44464c",
   "metadata": {},
   "outputs": [],
   "source": [
    "Number_of_files = soup.find_all('tr') #, attrs = {'class':'icon-file i-file-or-folder'})\n",
    "Number_of_files\n",
    "\n",
    "print('There are %d files.' % len(Number_of_files))"
   ]
  },
  {
   "cell_type": "markdown",
   "id": "c6e6f543",
   "metadata": {},
   "source": [
    "# Test run below this line.\n"
   ]
  },
  {
   "cell_type": "code",
   "execution_count": null,
   "id": "69ef56d9",
   "metadata": {},
   "outputs": [],
   "source": [
    "x = requests.get('http://news.ycombinator.com')\n",
    "x.status_code # 200 == OK\n",
    "\n"
   ]
  },
  {
   "cell_type": "code",
   "execution_count": null,
   "id": "33931db0",
   "metadata": {},
   "outputs": [],
   "source": [
    "y = BS(x.text) # Create a html parsing object\n",
    "y"
   ]
  },
  {
   "cell_type": "code",
   "execution_count": null,
   "id": "7e1cd47e",
   "metadata": {},
   "outputs": [],
   "source": [
    "post_containers = y.find_all('tr', attrs={'class':'athing'})\n",
    "print('There are %d article posts.' % len(post_containers))\n",
    "\n"
   ]
  },
  {
   "cell_type": "code",
   "execution_count": null,
   "id": "645ec4df",
   "metadata": {},
   "outputs": [],
   "source": [
    "import requests\n",
    ">>> from bs4 import BeautifulSoup as BS\n",
    ">>> \n",
    ">>> response = requests.get('https://s3.amazonaws.com/tripdata/index.html')\n",
    ">>> response.status_code # 200 == OK\n",
    "200\n",
    ">>> \n",
    ">>> soup = BS(response.text) # Create a html parsing object\n",
    ">>>\n",
    ">>> soup.title # Heres the browser title tag\n",
    "<title>Hacker News</title>\n",
    ">>>\n",
    ">>> soup.title.text # The contents of the tag\n",
    "u'Hacker News'\n",
    ">>> \n",
    ">>> # Heres some article posts\n",
    "... \n",
    ">>> post_containers = soup.find_all('tr', attrs={'class':'athing'})\n",
    ">>> \n",
    ">>> print 'There are %d article posts.' % len(post_containers)\n",
    "There are 30 article posts.\n",
    ">>> \n",
    ">>> \n",
    ">>> # The article name is the 3rd and last object in a post_container\n",
    "... \n",
    ">>> for container in post_containers:\n",
    "...     title = container.contents[-1] # The last tag\n",
    "...     title.a.text # Grab the `a` tag inside our titile tag, print the text"
   ]
  },
  {
   "cell_type": "markdown",
   "id": "a0b71db0",
   "metadata": {},
   "source": [
    "# File reading test below.\n"
   ]
  },
  {
   "cell_type": "code",
   "execution_count": null,
   "id": "9504afe5",
   "metadata": {},
   "outputs": [],
   "source": [
    "for root, dirs, files in os.walk(\"2015Q4_2020\", topdown=False):\n",
    "    for name in files:\n",
    "        if os.path.join(name).endswith(\".zip\"):\n",
    "            x = os.path.join(root, name)\n",
    "            print(x)\n",
    "            with zipfile.ZipFile(f\"{x}\", 'r') as zip_ref:\n",
    "                zip_ref.extractall(\"./desktop/Tableau-Challenge/2015Q4_2020_unzipped\")"
   ]
  },
  {
   "cell_type": "code",
   "execution_count": 7,
   "id": "46acb2d7",
   "metadata": {},
   "outputs": [
    {
     "name": "stdout",
     "output_type": "stream",
     "text": [
      "2015Q4_2020\\JC-201509-citibike-tripdata.csv.zip\n",
      "2015Q4_2020\\JC-201510-citibike-tripdata.csv.zip\n",
      "2015Q4_2020\\JC-201511-citibike-tripdata.csv.zip\n",
      "2015Q4_2020\\JC-201512-citibike-tripdata.csv.zip\n",
      "2015Q4_2020\\JC-201601-citibike-tripdata.csv.zip\n",
      "2015Q4_2020\\JC-201602-citibike-tripdata.csv.zip\n",
      "2015Q4_2020\\JC-201603-citibike-tripdata.csv.zip\n",
      "2015Q4_2020\\JC-201604-citibike-tripdata.csv.zip\n",
      "2015Q4_2020\\JC-201605-citibike-tripdata.csv.zip\n",
      "2015Q4_2020\\JC-201606-citibike-tripdata.csv.zip\n",
      "2015Q4_2020\\JC-201607-citibike-tripdata.csv.zip\n",
      "2015Q4_2020\\JC-201608-citibike-tripdata.csv.zip\n",
      "2015Q4_2020\\JC-201609-citibike-tripdata.csv.zip\n",
      "2015Q4_2020\\JC-201610-citibike-tripdata.csv.zip\n",
      "2015Q4_2020\\JC-201611-citibike-tripdata.csv.zip\n",
      "2015Q4_2020\\JC-201612-citibike-tripdata.csv.zip\n",
      "2015Q4_2020\\JC-201701-citibike-tripdata.csv.zip\n",
      "2015Q4_2020\\JC-201702-citibike-tripdata.csv.zip\n",
      "2015Q4_2020\\JC-201703-citibike-tripdata.csv.zip\n",
      "2015Q4_2020\\JC-201704-citibike-tripdata.csv.zip\n",
      "2015Q4_2020\\JC-201705-citibike-tripdata.csv.zip\n",
      "2015Q4_2020\\JC-201706-citibike-tripdata.csv.zip\n",
      "2015Q4_2020\\JC-201707-citibike-tripdata.csv.zip\n",
      "2015Q4_2020\\JC-201708 citibike-tripdata.csv.zip\n",
      "2015Q4_2020\\JC-201709-citibike-tripdata.csv.zip\n",
      "2015Q4_2020\\JC-201710-citibike-tripdata.csv.zip\n",
      "2015Q4_2020\\JC-201711-citibike-tripdata.csv.zip\n",
      "2015Q4_2020\\JC-201712-citibike-tripdata.csv.zip\n",
      "2015Q4_2020\\JC-201801-citibike-tripdata.csv.zip\n",
      "2015Q4_2020\\JC-201802-citibike-tripdata.csv.zip\n",
      "2015Q4_2020\\JC-201803-citibike-tripdata.csv.zip\n",
      "2015Q4_2020\\JC-201804-citibike-tripdata.csv.zip\n",
      "2015Q4_2020\\JC-201805-citibike-tripdata.csv.zip\n",
      "2015Q4_2020\\JC-201806-citibike-tripdata.csv.zip\n",
      "2015Q4_2020\\JC-201807-citibike-tripdata.csv.zip\n",
      "2015Q4_2020\\JC-201808-citibike-tripdata.csv.zip\n",
      "2015Q4_2020\\JC-201809-citibike-tripdata.csv.zip\n",
      "2015Q4_2020\\JC-201810-citibike-tripdata.csv.zip\n",
      "2015Q4_2020\\JC-201811-citibike-tripdata.csv.zip\n",
      "2015Q4_2020\\JC-201812-citibike-tripdata.csv.zip\n",
      "2015Q4_2020\\JC-201901-citibike-tripdata.csv.zip\n",
      "2015Q4_2020\\JC-201902-citibike-tripdata.csv.zip\n",
      "2015Q4_2020\\JC-201903-citibike-tripdata.csv.zip\n",
      "2015Q4_2020\\JC-201904-citibike-tripdata.csv.zip\n",
      "2015Q4_2020\\JC-201905-citibike-tripdata.csv.zip\n",
      "2015Q4_2020\\JC-201906-citibike-tripdata.csv.zip\n",
      "2015Q4_2020\\JC-201907-citibike-tripdata.csv.zip\n",
      "2015Q4_2020\\JC-201908-citibike-tripdata.csv.zip\n",
      "2015Q4_2020\\JC-201909-citibike-tripdata.csv.zip\n",
      "2015Q4_2020\\JC-201910-citibike-tripdata.csv.zip\n",
      "2015Q4_2020\\JC-201911-citibike-tripdata.csv.zip\n",
      "2015Q4_2020\\JC-201912-citibike-tripdata.csv.zip\n",
      "2015Q4_2020\\JC-202001-citibike-tripdata.csv.zip\n",
      "2015Q4_2020\\JC-202002-citibike-tripdata.csv.zip\n",
      "2015Q4_2020\\JC-202003-citibike-tripdata.csv.zip\n",
      "2015Q4_2020\\JC-202004-citibike-tripdata.csv.zip\n",
      "2015Q4_2020\\JC-202005-citibike-tripdata.csv.zip\n",
      "2015Q4_2020\\JC-202006-citibike-tripdata.csv.zip\n",
      "2015Q4_2020\\JC-202007-citibike-tripdata.csv.zip\n",
      "2015Q4_2020\\JC-202008-citibike-tripdata.csv.zip\n",
      "2015Q4_2020\\JC-202009-citibike-tripdata.csv.zip\n",
      "2015Q4_2020\\JC-202010-citibike-tripdata.csv.zip\n",
      "2015Q4_2020\\JC-202011-citibike-tripdata.csv.zip\n",
      "2015Q4_2020\\JC-202012-citibike-tripdata.csv.zip\n"
     ]
    }
   ],
   "source": [
    "for root, dirs, files in os.walk(\"2015Q4_2020\", topdown=False):\n",
    "    for name in files:\n",
    "        if os.path.join(name).endswith(\".zip\"):\n",
    "            x = os.path.join(root, name)\n",
    "            print(x)\n",
    "            with zipfile.ZipFile(f\"{x}\", 'r') as zip_ref:\n",
    "                zip_ref.extractall(\"2015Q4_2020_unzipped\")"
   ]
  },
  {
   "cell_type": "code",
   "execution_count": null,
   "id": "3c39750f",
   "metadata": {},
   "outputs": [],
   "source": []
  },
  {
   "cell_type": "code",
   "execution_count": 17,
   "id": "e6f3ab50",
   "metadata": {},
   "outputs": [
    {
     "name": "stdout",
     "output_type": "stream",
     "text": [
      "['2015Q4_2020_unzipped\\\\JC-201509-citibike-tripdata.csv', '2015Q4_2020_unzipped\\\\JC-201510-citibike-tripdata.csv', '2015Q4_2020_unzipped\\\\JC-201511-citibike-tripdata.csv', '2015Q4_2020_unzipped\\\\JC-201512-citibike-tripdata.csv']\n",
      "['2015Q4_2020_unzipped\\\\JC-201604-citibike-tripdata.csv', '2015Q4_2020_unzipped\\\\JC-201605-citibike-tripdata.csv', '2015Q4_2020_unzipped\\\\JC-201606-citibike-tripdata.csv', '2015Q4_2020_unzipped\\\\JC-201607-citibike-tripdata.csv', '2015Q4_2020_unzipped\\\\JC-201608-citibike-tripdata.csv', '2015Q4_2020_unzipped\\\\JC-201609-citibike-tripdata.csv', '2015Q4_2020_unzipped\\\\JC-20161-citibike-tripdata.csv', '2015Q4_2020_unzipped\\\\JC-201610-citibike-tripdata.csv', '2015Q4_2020_unzipped\\\\JC-201611-citibike-tripdata.csv', '2015Q4_2020_unzipped\\\\JC-201612-citibike-tripdata.csv', '2015Q4_2020_unzipped\\\\JC-20162-citibike-tripdata.csv', '2015Q4_2020_unzipped\\\\JC-20163-citibike-tripdata.csv']\n",
      "['2015Q4_2020_unzipped\\\\JC-201701-citibike-tripdata.csv', '2015Q4_2020_unzipped\\\\JC-201702-citibike-tripdata.csv', '2015Q4_2020_unzipped\\\\JC-201703-citibike-tripdata.csv', '2015Q4_2020_unzipped\\\\JC-201704-citibike-tripdata.csv', '2015Q4_2020_unzipped\\\\JC-201705-citibike-tripdata.csv', '2015Q4_2020_unzipped\\\\JC-201706-citibike-tripdata.csv', '2015Q4_2020_unzipped\\\\JC-201707-citibike-tripdata.csv', '2015Q4_2020_unzipped\\\\JC-201708 citibike-tripdata.csv', '2015Q4_2020_unzipped\\\\JC-201709-citibike-tripdata.csv', '2015Q4_2020_unzipped\\\\JC-201710-citibike-tripdata.csv', '2015Q4_2020_unzipped\\\\JC-201711-citibike-tripdata.csv', '2015Q4_2020_unzipped\\\\JC-201712-citibike-tripdata.csv']\n",
      "['2015Q4_2020_unzipped\\\\JC-201801-citibike-tripdata.csv', '2015Q4_2020_unzipped\\\\JC-201802-citibike-tripdata.csv', '2015Q4_2020_unzipped\\\\JC-201803-citibike-tripdata.csv', '2015Q4_2020_unzipped\\\\JC-201804-citibike-tripdata.csv', '2015Q4_2020_unzipped\\\\JC-201805-citibike-tripdata.csv', '2015Q4_2020_unzipped\\\\JC-201806-citibike-tripdata.csv', '2015Q4_2020_unzipped\\\\JC-201807-citibike-tripdata.csv', '2015Q4_2020_unzipped\\\\JC-201808-citibike-tripdata.csv', '2015Q4_2020_unzipped\\\\JC-201809-citibike-tripdata.csv', '2015Q4_2020_unzipped\\\\JC-201810-citibike-tripdata.csv', '2015Q4_2020_unzipped\\\\JC-201811-citibike-tripdata.csv', '2015Q4_2020_unzipped\\\\JC-201812-citibike-tripdata.csv']\n",
      "['2015Q4_2020_unzipped\\\\JC-201901-citibike-tripdata.csv', '2015Q4_2020_unzipped\\\\JC-201902-citibike-tripdata.csv', '2015Q4_2020_unzipped\\\\JC-201903-citibike-tripdata.csv', '2015Q4_2020_unzipped\\\\JC-201904-citibike-tripdata.csv', '2015Q4_2020_unzipped\\\\JC-201905-citibike-tripdata.csv', '2015Q4_2020_unzipped\\\\JC-201906-citibike-tripdata.csv', '2015Q4_2020_unzipped\\\\JC-201907-citibike-tripdata.csv', '2015Q4_2020_unzipped\\\\JC-201908-citibike-tripdata.csv', '2015Q4_2020_unzipped\\\\JC-201909-citibike-tripdata.csv', '2015Q4_2020_unzipped\\\\JC-201910-citibike-tripdata.csv', '2015Q4_2020_unzipped\\\\JC-201911-citibike-tripdata.csv', '2015Q4_2020_unzipped\\\\JC-201912-citibike-tripdata.csv']\n",
      "['2015Q4_2020_unzipped\\\\JC-202001-citibike-tripdata.csv', '2015Q4_2020_unzipped\\\\JC-202002-citibike-tripdata.csv', '2015Q4_2020_unzipped\\\\JC-202003-citibike-tripdata.csv', '2015Q4_2020_unzipped\\\\JC-202004-citibike-tripdata.csv', '2015Q4_2020_unzipped\\\\JC-202005-citibike-tripdata.csv', '2015Q4_2020_unzipped\\\\JC-202006-citibike-tripdata.csv', '2015Q4_2020_unzipped\\\\JC-202007-citibike-tripdata.csv', '2015Q4_2020_unzipped\\\\JC-202008-citibike-tripdata.csv', '2015Q4_2020_unzipped\\\\JC-202009-citibike-tripdata.csv', '2015Q4_2020_unzipped\\\\JC-202010-citibike-tripdata.csv', '2015Q4_2020_unzipped\\\\JC-202011-citibike-tripdata.csv', '2015Q4_2020_unzipped\\\\JC-202012-citibike-tripdata.csv']\n"
     ]
    }
   ],
   "source": [
    "for root, dirs, files in os.walk(\"2015Q4_2020_unzipped\", topdown=False):\n",
    "        Y2015Files = []\n",
    "        Y2016Files = []\n",
    "        Y2017Files = []\n",
    "        Y2018Files = []\n",
    "        Y2019Files = []\n",
    "        Y2020Files = []\n",
    "        Other = []\n",
    "        AllFiles = []\n",
    "        for name in files:\n",
    "#             AllFiles.append(os.path.join(root, name))\n",
    "#             print(name)\n",
    "\n",
    "            if os.path.join(name).startswith(\"2015\", 3, 7):\n",
    "                foldername = os.path.join(root, name)\n",
    "#                 print(foldername)\n",
    "                Y2015Files.append(os.path.join(root, name))\n",
    "                AllFiles.append(os.path.join(root, name))\n",
    "#                 print(files)\n",
    "#                for root, dirs, files in os.walk(\"foldername\", topdown=False):\n",
    "#                     for y2015 in files:\n",
    "#                         if os.path.join(name).startswith(\"2015\", 3, 7):\n",
    "#                             #print(os.path.join(root, name))\n",
    "#                             Y2015Files.append(os.path.join(root, name))\n",
    "#                             AllFiles.append(os.path.join(root, name))\n",
    "            elif os.path.join(name).startswith(\"2016\", 3, 7):\n",
    "                Y2016Files.append(os.path.join(root, name))\n",
    "                AllFiles.append(os.path.join(root, name))\n",
    "            elif os.path.join(name).startswith(\"2017\", 3, 7):\n",
    "                Y2017Files.append(os.path.join(root, name))\n",
    "                AllFiles.append(os.path.join(root, name))\n",
    "            elif os.path.join(name).startswith(\"2018\", 3, 7):\n",
    "                Y2018Files.append(os.path.join(root, name))\n",
    "                AllFiles.append(os.path.join(root, name))\n",
    "            elif os.path.join(name).startswith(\"2019\", 3, 7):\n",
    "                Y2019Files.append(os.path.join(root, name))\n",
    "                AllFiles.append(os.path.join(root, name))\n",
    "            elif os.path.join(name).startswith(\"2020\", 3, 7):\n",
    "                Y2020Files.append(os.path.join(root, name))\n",
    "                AllFiles.append(os.path.join(root, name))\n",
    "            else:\n",
    "                Other.append(os.path.join(root, name))\n",
    "\n",
    "print(Y2015Files)\n",
    "print(Y2016Files)\n",
    "print(Y2017Files)\n",
    "print(Y2018Files)\n",
    "print(Y2019Files)\n",
    "print(Y2020Files)\n",
    "# print(AllFiles)\n",
    "\n",
    "# Resources = {\n",
    "#     \"2021\": Y2021Files,\n",
    "#     \"2022\": Y2022Files,\n",
    "#     \"Other\": Other,\n",
    "#     \"AllFiles\": AllFiles\n",
    "# }\n",
    "\n",
    "# # print(Resources)"
   ]
  },
  {
   "cell_type": "code",
   "execution_count": null,
   "id": "2bd8d9d0",
   "metadata": {},
   "outputs": [],
   "source": []
  }
 ],
 "metadata": {
  "kernelspec": {
   "display_name": "Python 3 (ipykernel)",
   "language": "python",
   "name": "python3"
  },
  "language_info": {
   "codemirror_mode": {
    "name": "ipython",
    "version": 3
   },
   "file_extension": ".py",
   "mimetype": "text/x-python",
   "name": "python",
   "nbconvert_exporter": "python",
   "pygments_lexer": "ipython3",
   "version": "3.9.7"
  }
 },
 "nbformat": 4,
 "nbformat_minor": 5
}
